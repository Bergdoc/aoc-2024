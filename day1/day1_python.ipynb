{
 "cells": [
  {
   "cell_type": "markdown",
   "id": "56659953",
   "metadata": {},
   "source": [
    "## Day 1 - Python"
   ]
  },
  {
   "cell_type": "code",
   "execution_count": 25,
   "id": "e4a6437f",
   "metadata": {},
   "outputs": [],
   "source": [
    "# read in input and split into two lists\n",
    "with open(\"input.txt\", \"r\") as f:\n",
    "    raw_input = f.readlines()\n",
    "\n",
    "with open(\"example.txt\", \"r\") as f:\n",
    "    raw_example = f.readlines()"
   ]
  },
  {
   "cell_type": "markdown",
   "id": "21f6b27f",
   "metadata": {},
   "source": [
    "## Part 1\n",
    "\n",
    "Maybe the lists are only off by a small amount! To find out, pair up the numbers and measure how far apart they are. Pair up the smallest number in the left list with the smallest number in the right list, then the second-smallest left number with the second-smallest right number, and so on.\n",
    "\n",
    "Within each pair, figure out how far apart the two numbers are; you'll need to add up all of those distances. For example, if you pair up a 3 from the left list with a 7 from the right list, the distance apart is 4; if you pair up a 9 with a 3, the distance apart is 6.\n",
    "\n",
    "In the example list above, the pairs and distances would be as follows:\n",
    "\n",
    "The smallest number in the left list is 1, and the smallest number in the right list is 3. The distance between them is 2.\n",
    "The second-smallest number in the left list is 2, and the second-smallest number in the right list is another 3. The distance between them is 1.\n",
    "The third-smallest number in both lists is 3, so the distance between them is 0.\n",
    "The next numbers to pair up are 3 and 4, a distance of 1.\n",
    "The fifth-smallest numbers in each list are 3 and 5, a distance of 2.\n",
    "Finally, the largest number in the left list is 4, while the largest number in the right list is 9; these are a distance 5 apart.\n",
    "To find the total distance between the left list and the right list, add up the distances between all of the pairs you found. In the example above, this is 2 + 1 + 0 + 1 + 2 + 5, a total distance of 11!\n",
    "\n",
    "Your actual left and right lists contain many location IDs. What is the total distance between your lists?"
   ]
  },
  {
   "cell_type": "code",
   "execution_count": 26,
   "id": "0ef9c43c",
   "metadata": {},
   "outputs": [],
   "source": [
    "def calculate_total_distance_of_both_lists(raw_input):\n",
    "    left_list = []\n",
    "    right_list = []\n",
    "    for row in raw_input:\n",
    "        left, right = row.strip().split(\"   \")\n",
    "        left_list.append(left)\n",
    "        right_list.append(right)\n",
    "    left_list_sorted = sorted(left_list)\n",
    "    right_list_sorted = sorted(right_list)\n",
    "    \n",
    "    \n",
    "    differences = []\n",
    "    \n",
    "    for left, right in zip(left_list_sorted, right_list_sorted):\n",
    "        differences.append(abs(int(right) - int(left)))\n",
    "        \n",
    "    return sum(differences)"
   ]
  },
  {
   "cell_type": "code",
   "execution_count": 29,
   "id": "3c9b85de",
   "metadata": {},
   "outputs": [
    {
     "name": "stdout",
     "output_type": "stream",
     "text": [
      "Validate Example: 11\n",
      "Result: 3574690\n"
     ]
    }
   ],
   "source": [
    "print(f\"Validate Example: {calculate_total_distance_of_both_lists(raw_example)}\")\n",
    "print(f\"Result: {calculate_total_distance_of_both_lists(raw_input)}\")\n"
   ]
  },
  {
   "cell_type": "markdown",
   "id": "6c8315ad",
   "metadata": {},
   "source": [
    "## Part 2\n",
    "\n",
    "For these example lists, here is the process of finding the similarity score:\n",
    "\n",
    "The first number in the left list is 3. It appears in the right list three times, so the similarity score increases by 3 * 3 = 9.\n",
    "The second number in the left list is 4. It appears in the right list once, so the similarity score increases by 4 * 1 = 4.\n",
    "The third number in the left list is 2. It does not appear in the right list, so the similarity score does not increase (2 * 0 = 0).\n",
    "The fourth number, 1, also does not appear in the right list.\n",
    "The fifth number, 3, appears in the right list three times; the similarity score increases by 9.\n",
    "The last number, 3, appears in the right list three times; the similarity score again increases by 9.\n",
    "So, for these example lists, the similarity score at the end of this process is 31 (9 + 4 + 0 + 0 + 9 + 9).\n",
    "\n",
    "Once again consider your left and right lists. What is their similarity score?"
   ]
  },
  {
   "cell_type": "code",
   "execution_count": 33,
   "id": "f2cd7a5c",
   "metadata": {},
   "outputs": [],
   "source": [
    "def calculate_numbers_count(numbers_list):\n",
    "    numbers_dict = {}\n",
    "    for number in numbers_list:\n",
    "        if number in numbers_dict:\n",
    "            numbers_dict[number] = numbers_dict[number] + 1\n",
    "        else:\n",
    "            numbers_dict[number] = 1\n",
    "            \n",
    "    return numbers_dict"
   ]
  },
  {
   "cell_type": "code",
   "execution_count": 36,
   "id": "189beb58",
   "metadata": {},
   "outputs": [],
   "source": [
    "def calculate_similarity_score_of_both_lists(raw_input):\n",
    "    left_list = []\n",
    "    right_list = []\n",
    "    for row in raw_input:\n",
    "        left, right = row.strip().split(\"   \")\n",
    "        left_list.append(left)\n",
    "        right_list.append(right)\n",
    "        \n",
    "    similarity_scores = []\n",
    "    \n",
    "    right_list_numbers_count = calculate_numbers_count(right_list)\n",
    "    \n",
    "    for number in left_list:\n",
    "        # we need to calculate for each number in the left list how often it appears in the second list\n",
    "        right_list_cnt = right_list_numbers_count.get(number, 0)\n",
    "        similarity_scores.append(int(number) * int(right_list_cnt))\n",
    "    \n",
    "    return sum(similarity_scores)"
   ]
  },
  {
   "cell_type": "code",
   "execution_count": 37,
   "id": "032ce7eb",
   "metadata": {},
   "outputs": [
    {
     "name": "stdout",
     "output_type": "stream",
     "text": [
      "Validate Example: 31\n",
      "Result: 22565391\n"
     ]
    }
   ],
   "source": [
    "print(f\"Validate Example: {calculate_similarity_score_of_both_lists(raw_example)}\")\n",
    "print(f\"Result: {calculate_similarity_score_of_both_lists(raw_input)}\")"
   ]
  },
  {
   "cell_type": "code",
   "execution_count": null,
   "id": "5fe46ed9",
   "metadata": {},
   "outputs": [],
   "source": []
  }
 ],
 "metadata": {
  "kernelspec": {
   "display_name": "Python 3 (ipykernel)",
   "language": "python",
   "name": "python3"
  },
  "language_info": {
   "codemirror_mode": {
    "name": "ipython",
    "version": 3
   },
   "file_extension": ".py",
   "mimetype": "text/x-python",
   "name": "python",
   "nbconvert_exporter": "python",
   "pygments_lexer": "ipython3",
   "version": "3.9.7"
  }
 },
 "nbformat": 4,
 "nbformat_minor": 5
}
